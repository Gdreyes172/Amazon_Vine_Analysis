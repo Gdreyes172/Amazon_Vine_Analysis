{
  "cells": [
    {
      "cell_type": "code",
      "execution_count": 1,
      "metadata": {
        "colab": {
          "base_uri": "https://localhost:8080/"
        },
        "id": "V58rxea0HqSa",
        "outputId": "b8bda0ad-3473-4be9-d6f3-d55fcc5b1b5a"
      },
      "outputs": [
        {
          "output_type": "stream",
          "name": "stdout",
          "text": [
            "\r0% [Working]\r            \rHit:1 http://archive.ubuntu.com/ubuntu bionic InRelease\n",
            "\r0% [Waiting for headers] [Connecting to security.ubuntu.com (185.125.190.39)] [\r                                                                               \rGet:2 http://archive.ubuntu.com/ubuntu bionic-updates InRelease [88.7 kB]\n",
            "\r                                                                               \rGet:3 https://cloud.r-project.org/bin/linux/ubuntu bionic-cran40/ InRelease [3,626 B]\n",
            "Hit:4 https://developer.download.nvidia.com/compute/cuda/repos/ubuntu1804/x86_64  InRelease\n",
            "Get:5 http://archive.ubuntu.com/ubuntu bionic-backports InRelease [74.6 kB]\n",
            "Ign:6 https://developer.download.nvidia.com/compute/machine-learning/repos/ubuntu1804/x86_64  InRelease\n",
            "Get:7 http://security.ubuntu.com/ubuntu bionic-security InRelease [88.7 kB]\n",
            "Hit:8 https://developer.download.nvidia.com/compute/machine-learning/repos/ubuntu1804/x86_64  Release\n",
            "Get:9 http://ppa.launchpad.net/c2d4u.team/c2d4u4.0+/ubuntu bionic InRelease [15.9 kB]\n",
            "Hit:10 http://ppa.launchpad.net/cran/libgit2/ubuntu bionic InRelease\n",
            "Hit:11 http://ppa.launchpad.net/deadsnakes/ppa/ubuntu bionic InRelease\n",
            "Hit:12 http://ppa.launchpad.net/graphics-drivers/ppa/ubuntu bionic InRelease\n",
            "Get:13 https://cloud.r-project.org/bin/linux/ubuntu bionic-cran40/ Packages [84.8 kB]\n",
            "Get:14 http://archive.ubuntu.com/ubuntu bionic-updates/universe amd64 Packages [2,272 kB]\n",
            "Get:15 http://archive.ubuntu.com/ubuntu bionic-updates/main amd64 Packages [3,167 kB]\n",
            "Get:17 http://ppa.launchpad.net/c2d4u.team/c2d4u4.0+/ubuntu bionic/main Sources [1,953 kB]\n",
            "Get:18 http://security.ubuntu.com/ubuntu bionic-security/universe amd64 Packages [1,496 kB]\n",
            "Get:19 http://security.ubuntu.com/ubuntu bionic-security/main amd64 Packages [2,733 kB]\n",
            "Get:20 http://ppa.launchpad.net/c2d4u.team/c2d4u4.0+/ubuntu bionic/main amd64 Packages [1,001 kB]\n",
            "Fetched 13.0 MB in 6s (2,077 kB/s)\n",
            "Reading package lists... Done\n"
          ]
        }
      ],
      "source": [
        "import os\n",
        "# Find the latest version of spark 3.0 from http://www.apache.org/dist/spark/ and enter as the spark version\n",
        "# For example:\n",
        "# spark_version = 'spark-3.0.3'\n",
        "spark_version = 'spark-3.0.3'\n",
        "os.environ['SPARK_VERSION']=spark_version\n",
        "\n",
        "# Install Spark and Java\n",
        "!apt-get update\n",
        "!apt-get install openjdk-11-jdk-headless -qq > /dev/null\n",
        "!wget -q http://www.apache.org/dist/spark/$SPARK_VERSION/$SPARK_VERSION-bin-hadoop2.7.tgz\n",
        "!tar xf $SPARK_VERSION-bin-hadoop2.7.tgz\n",
        "!pip install -q findspark\n",
        "\n",
        "# Set Environment Variables\n",
        "import os\n",
        "os.environ[\"JAVA_HOME\"] = \"/usr/lib/jvm/java-11-openjdk-amd64\"\n",
        "os.environ[\"SPARK_HOME\"] = f\"/content/{spark_version}-bin-hadoop2.7\"\n",
        "\n",
        "# Start a SparkSession\n",
        "import findspark\n",
        "findspark.init()"
      ]
    },
    {
      "cell_type": "code",
      "execution_count": 2,
      "metadata": {
        "colab": {
          "base_uri": "https://localhost:8080/"
        },
        "id": "_xKwTpATHqSe",
        "outputId": "5a9b7450-dbd3-40aa-a45f-229ab5f75573"
      },
      "outputs": [
        {
          "output_type": "stream",
          "name": "stdout",
          "text": [
            "--2022-05-04 04:44:49--  https://jdbc.postgresql.org/download/postgresql-42.2.16.jar\n",
            "Resolving jdbc.postgresql.org (jdbc.postgresql.org)... 72.32.157.228, 2001:4800:3e1:1::228\n",
            "Connecting to jdbc.postgresql.org (jdbc.postgresql.org)|72.32.157.228|:443... connected.\n",
            "HTTP request sent, awaiting response... 200 OK\n",
            "Length: 1002883 (979K) [application/java-archive]\n",
            "Saving to: ‘postgresql-42.2.16.jar’\n",
            "\n",
            "postgresql-42.2.16. 100%[===================>] 979.38K  5.81MB/s    in 0.2s    \n",
            "\n",
            "2022-05-04 04:44:50 (5.81 MB/s) - ‘postgresql-42.2.16.jar’ saved [1002883/1002883]\n",
            "\n"
          ]
        }
      ],
      "source": [
        "# Download the Postgres driver that will allow Spark to interact with Postgres.\n",
        "!wget https://jdbc.postgresql.org/download/postgresql-42.2.16.jar"
      ]
    },
    {
      "cell_type": "code",
      "execution_count": 3,
      "metadata": {
        "id": "MMqDAjVS0KN9"
      },
      "outputs": [],
      "source": [
        "from pyspark.sql import SparkSession\n",
        "spark = SparkSession.builder.appName(\"M16-Amazon-Challenge\").config(\"spark.driver.extraClassPath\",\"/content/postgresql-42.2.16.jar\").getOrCreate()"
      ]
    },
    {
      "cell_type": "markdown",
      "metadata": {
        "id": "cyBsySGuY-9V"
      },
      "source": [
        "### Load Amazon Data into Spark DataFrame"
      ]
    },
    {
      "cell_type": "code",
      "execution_count": 4,
      "metadata": {
        "id": "CtCmBhQJY-9Z",
        "colab": {
          "base_uri": "https://localhost:8080/"
        },
        "outputId": "a9cd3b3e-d43f-4640-f759-6a5aaaeb7ec6"
      },
      "outputs": [
        {
          "output_type": "stream",
          "name": "stdout",
          "text": [
            "+-----------+-----------+--------------+----------+--------------+--------------------+--------------------+-----------+-------------+-----------+----+-----------------+--------------------+--------------------+-----------+\n",
            "|marketplace|customer_id|     review_id|product_id|product_parent|       product_title|    product_category|star_rating|helpful_votes|total_votes|vine|verified_purchase|     review_headline|         review_body|review_date|\n",
            "+-----------+-----------+--------------+----------+--------------+--------------------+--------------------+-----------+-------------+-----------+----+-----------------+--------------------+--------------------+-----------+\n",
            "|         US|   12190288|R3FU16928EP5TC|B00AYB1482|     668895143|Enlightened: Seas...|Digital_Video_Dow...|          5|            0|          0|   N|                Y|I loved it and I ...|I loved it and I ...| 2015-08-31|\n",
            "|         US|   30549954|R1IZHHS1MH3AQ4|B00KQD28OM|     246219280|             Vicious|Digital_Video_Dow...|          5|            0|          0|   N|                Y|As always it seem...|As always it seem...| 2015-08-31|\n",
            "|         US|   52895410| R52R85WC6TIAH|B01489L5LQ|     534732318|         After Words|Digital_Video_Dow...|          4|           17|         18|   N|                Y|      Charming movie|This movie isn't ...| 2015-08-31|\n",
            "|         US|   27072354| R7HOOYTVIB0DS|B008LOVIIK|     239012694|Masterpiece: Insp...|Digital_Video_Dow...|          5|            0|          0|   N|                Y|          Five Stars|excellant this is...| 2015-08-31|\n",
            "|         US|   26939022|R1XQ2N5CDOZGNX|B0094LZMT0|     535858974|   On The Waterfront|Digital_Video_Dow...|          5|            0|          0|   N|                Y|Brilliant film fr...|Brilliant film fr...| 2015-08-31|\n",
            "|         US|    4772040|R1HCST57W334KN|B0112OSOQE|      38517795|Rick and Morty Se...|Digital_Video_Dow...|          5|            5|          6|   N|                Y|Best show on TV r...|If you don't like...| 2015-08-31|\n",
            "|         US|   12910040|R32BUTYQS1ZJBQ|B000NPE5SA|     373323715|      Africa Screams|Digital_Video_Dow...|          4|            1|          1|   N|                Y|Very funny. A typ...|Very funny.  A ty...| 2015-08-31|\n",
            "|         US|   38805573|  RH4SXPL4L9QU|B00XWV4QXG|     633842417| Entourage: Season 7|Digital_Video_Dow...|          3|            0|          0|   N|                Y|it was not as goo...|Strange as it is,...| 2015-08-31|\n",
            "|         US|   37100714|R37INWIQA5YW8N|B00X8UKOUK|     666093513|Catastrophe - Sea...|Digital_Video_Dow...|          2|            0|          0|   N|                Y|           Two Stars|Funny shows! We l...| 2015-08-31|\n",
            "|         US|   41234409|R18GSVAAS3N8GX|B00OOKXTFU|     801680808|The Worricker Tri...|Digital_Video_Dow...|          3|            0|          0|   N|                Y|        A tad Stuffy|Well made. Great ...| 2015-08-31|\n",
            "|         US|   24698954|R2QCG0ZZOHYUOX|B00URDJ600|     174981485|Mr. Selfridge, Se...|Digital_Video_Dow...|          5|            0|          0|   N|                Y|This show is awes...|This show is awes...| 2015-08-31|\n",
            "|         US|   11956809|R2B1OCYMUVMS5C|B009JUZ5I4|     654293980|  Five Branded Women|Digital_Video_Dow...|          5|            0|          0|   N|                Y|A good perspectiv...|A good perspectiv...| 2015-08-31|\n",
            "|         US|   11763902|R131ZJWHK0XXY0|B00PSLQYWE|     156264553|Downton Abbey Sea...|Digital_Video_Dow...|          4|            0|          0|   N|                Y|this saga gets be...|this saga gets be...| 2015-08-31|\n",
            "|         US|   46765633| RY6RIUNL03N8M|B00LI1COYA|     714145608|    Extant, Season 1|Digital_Video_Dow...|          5|            0|          0|   N|                Y|          Five Stars|         Great show.| 2015-08-31|\n",
            "|         US|   12411752|R2SWNCCEH2HPM5|B01347T9O8|     331499516|            Casanova|Digital_Video_Dow...|          1|            0|          0|   N|                Y|            One Star|Not my kind of mo...| 2015-08-31|\n",
            "|         US|   14717869|R127KV8E8ZC5L4|B00EC7VQX2|     627579257|Boardwalk Empire ...|Digital_Video_Dow...|          1|            0|          1|   N|                Y|I would have give...|I would have give...| 2015-08-31|\n",
            "|         US|    7438246|R3GH9B8WLQVY5T|B014P64276|     120489454|      Reunion Part 2|Digital_Video_Dow...|          5|            0|          0|   N|                Y|          Five Stars|         I loved it.| 2015-08-31|\n",
            "|         US|   51636125|R3AEFW1YB46FAU|B00X8UKOUK|     666093513|Catastrophe - Sea...|Digital_Video_Dow...|          3|            0|          0|   N|                Y|I want to like it...|I want to like it...| 2015-08-31|\n",
            "|         US|   47856888|R1ZHHD1GTHGMNK|B005U9RM0W|     728197314|      Grimm Season 1|Digital_Video_Dow...|          4|            1|          1|   N|                Y|If you're a sucke...|If you're a sucke...| 2015-08-31|\n",
            "|         US|    9210752|R2BCH4XK5CIK50|B00X8UKOUK|     666093513|Catastrophe - Sea...|Digital_Video_Dow...|          5|            0|          0|   N|                Y|         Great show.|Well done!!  Grea...| 2015-08-31|\n",
            "+-----------+-----------+--------------+----------+--------------+--------------------+--------------------+-----------+-------------+-----------+----+-----------------+--------------------+--------------------+-----------+\n",
            "only showing top 20 rows\n",
            "\n"
          ]
        }
      ],
      "source": [
        "from pyspark import SparkFiles\n",
        "url = \"https://s3.amazonaws.com/amazon-reviews-pds/tsv/amazon_reviews_us_Digital_Video_Download_v1_00.tsv.gz\"\n",
        "spark.sparkContext.addFile(url)\n",
        "df = spark.read.option(\"encoding\", \"UTF-8\").csv(SparkFiles.get(\"\"), sep=\"\\t\", header=True, inferSchema=True)\n",
        "df.show()"
      ]
    },
    {
      "cell_type": "code",
      "source": [
        "from pyspark.sql.functions import to_date\n",
        "from pyspark.sql.functions import col,isnan, when, count\n",
        "null_count_df = df.select([count(when(isnan(c) | col(c).isNull(), c)).alias(c) for c in df.columns])\n",
        "null_count_df.show()"
      ],
      "metadata": {
        "colab": {
          "base_uri": "https://localhost:8080/"
        },
        "id": "ewzJX0ZHHT_G",
        "outputId": "70cd0ca9-9c6b-4fa1-fd90-8b0a75d568c8"
      },
      "execution_count": 5,
      "outputs": [
        {
          "output_type": "stream",
          "name": "stdout",
          "text": [
            "+-----------+-----------+---------+----------+--------------+-------------+----------------+-----------+-------------+-----------+----+-----------------+---------------+-----------+-----------+\n",
            "|marketplace|customer_id|review_id|product_id|product_parent|product_title|product_category|star_rating|helpful_votes|total_votes|vine|verified_purchase|review_headline|review_body|review_date|\n",
            "+-----------+-----------+---------+----------+--------------+-------------+----------------+-----------+-------------+-----------+----+-----------------+---------------+-----------+-----------+\n",
            "|          0|          0|        0|         0|             0|            0|               0|          0|            0|          0|   0|                0|              4|        613|        548|\n",
            "+-----------+-----------+---------+----------+--------------+-------------+----------------+-----------+-------------+-----------+----+-----------------+---------------+-----------+-----------+\n",
            "\n"
          ]
        }
      ]
    },
    {
      "cell_type": "code",
      "source": [
        "# Drop Nulls\n",
        "cleaned_df = df.dropna()\n",
        "cleaned_df.show()"
      ],
      "metadata": {
        "colab": {
          "base_uri": "https://localhost:8080/"
        },
        "id": "gsn_zkPsLhYC",
        "outputId": "4021875e-5bf3-4b04-b029-c07c970d76e8"
      },
      "execution_count": 6,
      "outputs": [
        {
          "output_type": "stream",
          "name": "stdout",
          "text": [
            "+-----------+-----------+--------------+----------+--------------+--------------------+--------------------+-----------+-------------+-----------+----+-----------------+--------------------+--------------------+-----------+\n",
            "|marketplace|customer_id|     review_id|product_id|product_parent|       product_title|    product_category|star_rating|helpful_votes|total_votes|vine|verified_purchase|     review_headline|         review_body|review_date|\n",
            "+-----------+-----------+--------------+----------+--------------+--------------------+--------------------+-----------+-------------+-----------+----+-----------------+--------------------+--------------------+-----------+\n",
            "|         US|   12190288|R3FU16928EP5TC|B00AYB1482|     668895143|Enlightened: Seas...|Digital_Video_Dow...|          5|            0|          0|   N|                Y|I loved it and I ...|I loved it and I ...| 2015-08-31|\n",
            "|         US|   30549954|R1IZHHS1MH3AQ4|B00KQD28OM|     246219280|             Vicious|Digital_Video_Dow...|          5|            0|          0|   N|                Y|As always it seem...|As always it seem...| 2015-08-31|\n",
            "|         US|   52895410| R52R85WC6TIAH|B01489L5LQ|     534732318|         After Words|Digital_Video_Dow...|          4|           17|         18|   N|                Y|      Charming movie|This movie isn't ...| 2015-08-31|\n",
            "|         US|   27072354| R7HOOYTVIB0DS|B008LOVIIK|     239012694|Masterpiece: Insp...|Digital_Video_Dow...|          5|            0|          0|   N|                Y|          Five Stars|excellant this is...| 2015-08-31|\n",
            "|         US|   26939022|R1XQ2N5CDOZGNX|B0094LZMT0|     535858974|   On The Waterfront|Digital_Video_Dow...|          5|            0|          0|   N|                Y|Brilliant film fr...|Brilliant film fr...| 2015-08-31|\n",
            "|         US|    4772040|R1HCST57W334KN|B0112OSOQE|      38517795|Rick and Morty Se...|Digital_Video_Dow...|          5|            5|          6|   N|                Y|Best show on TV r...|If you don't like...| 2015-08-31|\n",
            "|         US|   12910040|R32BUTYQS1ZJBQ|B000NPE5SA|     373323715|      Africa Screams|Digital_Video_Dow...|          4|            1|          1|   N|                Y|Very funny. A typ...|Very funny.  A ty...| 2015-08-31|\n",
            "|         US|   38805573|  RH4SXPL4L9QU|B00XWV4QXG|     633842417| Entourage: Season 7|Digital_Video_Dow...|          3|            0|          0|   N|                Y|it was not as goo...|Strange as it is,...| 2015-08-31|\n",
            "|         US|   37100714|R37INWIQA5YW8N|B00X8UKOUK|     666093513|Catastrophe - Sea...|Digital_Video_Dow...|          2|            0|          0|   N|                Y|           Two Stars|Funny shows! We l...| 2015-08-31|\n",
            "|         US|   41234409|R18GSVAAS3N8GX|B00OOKXTFU|     801680808|The Worricker Tri...|Digital_Video_Dow...|          3|            0|          0|   N|                Y|        A tad Stuffy|Well made. Great ...| 2015-08-31|\n",
            "|         US|   24698954|R2QCG0ZZOHYUOX|B00URDJ600|     174981485|Mr. Selfridge, Se...|Digital_Video_Dow...|          5|            0|          0|   N|                Y|This show is awes...|This show is awes...| 2015-08-31|\n",
            "|         US|   11956809|R2B1OCYMUVMS5C|B009JUZ5I4|     654293980|  Five Branded Women|Digital_Video_Dow...|          5|            0|          0|   N|                Y|A good perspectiv...|A good perspectiv...| 2015-08-31|\n",
            "|         US|   11763902|R131ZJWHK0XXY0|B00PSLQYWE|     156264553|Downton Abbey Sea...|Digital_Video_Dow...|          4|            0|          0|   N|                Y|this saga gets be...|this saga gets be...| 2015-08-31|\n",
            "|         US|   46765633| RY6RIUNL03N8M|B00LI1COYA|     714145608|    Extant, Season 1|Digital_Video_Dow...|          5|            0|          0|   N|                Y|          Five Stars|         Great show.| 2015-08-31|\n",
            "|         US|   12411752|R2SWNCCEH2HPM5|B01347T9O8|     331499516|            Casanova|Digital_Video_Dow...|          1|            0|          0|   N|                Y|            One Star|Not my kind of mo...| 2015-08-31|\n",
            "|         US|   14717869|R127KV8E8ZC5L4|B00EC7VQX2|     627579257|Boardwalk Empire ...|Digital_Video_Dow...|          1|            0|          1|   N|                Y|I would have give...|I would have give...| 2015-08-31|\n",
            "|         US|    7438246|R3GH9B8WLQVY5T|B014P64276|     120489454|      Reunion Part 2|Digital_Video_Dow...|          5|            0|          0|   N|                Y|          Five Stars|         I loved it.| 2015-08-31|\n",
            "|         US|   51636125|R3AEFW1YB46FAU|B00X8UKOUK|     666093513|Catastrophe - Sea...|Digital_Video_Dow...|          3|            0|          0|   N|                Y|I want to like it...|I want to like it...| 2015-08-31|\n",
            "|         US|   47856888|R1ZHHD1GTHGMNK|B005U9RM0W|     728197314|      Grimm Season 1|Digital_Video_Dow...|          4|            1|          1|   N|                Y|If you're a sucke...|If you're a sucke...| 2015-08-31|\n",
            "|         US|    9210752|R2BCH4XK5CIK50|B00X8UKOUK|     666093513|Catastrophe - Sea...|Digital_Video_Dow...|          5|            0|          0|   N|                Y|         Great show.|Well done!!  Grea...| 2015-08-31|\n",
            "+-----------+-----------+--------------+----------+--------------+--------------------+--------------------+-----------+-------------+-----------+----+-----------------+--------------------+--------------------+-----------+\n",
            "only showing top 20 rows\n",
            "\n"
          ]
        }
      ]
    },
    {
      "cell_type": "code",
      "source": [
        "# Cleaned DataFrame total unique reviews.\n",
        "from pyspark.sql.functions import countDistinct\n",
        "cleaned_df.select(countDistinct(\"review_id\")).show()"
      ],
      "metadata": {
        "colab": {
          "base_uri": "https://localhost:8080/"
        },
        "id": "pi4BnFcPL9ak",
        "outputId": "6f189cfb-c22c-405b-8422-8cc94275e282"
      },
      "execution_count": 9,
      "outputs": [
        {
          "output_type": "stream",
          "name": "stdout",
          "text": [
            "+-------------------------+\n",
            "|count(DISTINCT review_id)|\n",
            "+-------------------------+\n",
            "|                  4056518|\n",
            "+-------------------------+\n",
            "\n"
          ]
        }
      ]
    },
    {
      "cell_type": "code",
      "source": [
        "# Create DF where the rows are equal to or greater than 20 to pick reviews that are more likely to be\n",
        "# helpful and to avoid having division by zero errors later on.\n",
        "review_analysis_df = cleaned_df.select([\"review_id\", \"product_id\",\"star_rating\",\"helpful_votes\",\"total_votes\",\"vine\",\"verified_purchase\"])\n",
        "votes20_df = review_analysis_df.filter(\"total_votes >= 20\")\n",
        "votes20_df.show()"
      ],
      "metadata": {
        "colab": {
          "base_uri": "https://localhost:8080/"
        },
        "id": "RkyplNirYb30",
        "outputId": "74f3ab12-6647-4fc8-dc62-15e31b0e214a"
      },
      "execution_count": 10,
      "outputs": [
        {
          "output_type": "stream",
          "name": "stdout",
          "text": [
            "+--------------+----------+-----------+-------------+-----------+----+-----------------+\n",
            "|     review_id|product_id|star_rating|helpful_votes|total_votes|vine|verified_purchase|\n",
            "+--------------+----------+-----------+-------------+-----------+----+-----------------+\n",
            "|R1CY3APKBOVUYU|B00VO8D13K|          1|            9|         33|   N|                Y|\n",
            "|R2LTI28AN2281A|B00YOSAJBO|          1|            0|         22|   N|                Y|\n",
            "|R3PENXZQNYN29L|B00XOX9QCS|          1|            1|         26|   N|                Y|\n",
            "| R8IGXNWIBN7ZP|B007BVMVDU|          1|            6|         20|   N|                Y|\n",
            "|R2P8B83Q61L4HS|B00XOXDXV8|          1|            0|         22|   N|                Y|\n",
            "| RZM83AGJAUZMA|B0142KIQYA|          1|           32|         41|   N|                Y|\n",
            "|R257YW4XQLDH1M|B006W0QOF2|          1|            6|         20|   N|                Y|\n",
            "|R12MYB9QM2YN8B|B00OLI95R6|          1|           19|         23|   N|                N|\n",
            "| RGCY6WG37F810|B00ZN31MK6|          4|           24|         27|   N|                N|\n",
            "|R1TIDPK91S2IRQ|B00TFVZCIU|          1|            0|         25|   N|                Y|\n",
            "|R1WQ2C3EYOLKKH|B00XOXDXV8|          1|            1|         24|   N|                Y|\n",
            "|R1H9AEOAFUK08M|B00X5G0470|          1|            4|         23|   N|                Y|\n",
            "|R2UH0VN09DDQLA|B0143LIXI2|          3|           23|         30|   N|                N|\n",
            "|R1E4W9ROP10WT3|B013QMAZ80|          5|           19|         22|   N|                N|\n",
            "| RF2BLXZTUOL0M|B013WF1Z4O|          5|           23|         27|   N|                N|\n",
            "|R1NAOZ90FDXGEP|B00XOXDXV8|          1|            0|         21|   N|                Y|\n",
            "| R3R7Y4GU9QJYJ|B00XOXDXV8|          1|            1|         23|   N|                Y|\n",
            "| REMDS9V4J58OR|B00X5FYC7Y|          4|           25|         29|   N|                Y|\n",
            "|R34CAWTWR5O2VN|B0142KIQYA|          1|           18|         20|   N|                Y|\n",
            "|R1YC2273PREWG2|B013JCFXCK|          1|            3|         32|   N|                Y|\n",
            "+--------------+----------+-----------+-------------+-----------+----+-----------------+\n",
            "only showing top 20 rows\n",
            "\n"
          ]
        }
      ]
    },
    {
      "cell_type": "code",
      "source": [
        "# Filter rows where number of helpful_votes divided by total_votes is equal to or greater than 50%\n",
        "helpful_df = votes20_df.filter(votes20_df[\"helpful_votes\"]/votes20_df[\"total_votes\"] >= 0.5)\n",
        "helpful_df.show()"
      ],
      "metadata": {
        "colab": {
          "base_uri": "https://localhost:8080/"
        },
        "id": "jlYgsUxOdv8v",
        "outputId": "6d75cfa7-4f23-4be3-ed2c-80f9ff2de5f8"
      },
      "execution_count": 13,
      "outputs": [
        {
          "output_type": "stream",
          "name": "stdout",
          "text": [
            "+--------------+----------+-----------+-------------+-----------+----+-----------------+\n",
            "|     review_id|product_id|star_rating|helpful_votes|total_votes|vine|verified_purchase|\n",
            "+--------------+----------+-----------+-------------+-----------+----+-----------------+\n",
            "| RZM83AGJAUZMA|B0142KIQYA|          1|           32|         41|   N|                Y|\n",
            "|R12MYB9QM2YN8B|B00OLI95R6|          1|           19|         23|   N|                N|\n",
            "| RGCY6WG37F810|B00ZN31MK6|          4|           24|         27|   N|                N|\n",
            "|R2UH0VN09DDQLA|B0143LIXI2|          3|           23|         30|   N|                N|\n",
            "|R1E4W9ROP10WT3|B013QMAZ80|          5|           19|         22|   N|                N|\n",
            "| RF2BLXZTUOL0M|B013WF1Z4O|          5|           23|         27|   N|                N|\n",
            "| REMDS9V4J58OR|B00X5FYC7Y|          4|           25|         29|   N|                Y|\n",
            "|R34CAWTWR5O2VN|B0142KIQYA|          1|           18|         20|   N|                Y|\n",
            "|R2ISFKK57JF02V|B00R6TEJU0|          5|           25|         26|   N|                Y|\n",
            "|R3D8LNOI6ZPOFY|B00S1Z5Z42|          5|           68|         72|   N|                Y|\n",
            "| RVR6HYB370XXD|B010X3O1IK|          4|          110|        112|   N|                Y|\n",
            "| R9DSUA5QATKSB|B00MR9YFCG|          4|           18|         21|   N|                Y|\n",
            "|R1R6D5SQ0MJ4SD|B0112SYRUM|          1|           24|         30|   N|                N|\n",
            "| RYWE9GFXNQMTM|B00O1SHSSE|          1|           30|         39|   N|                Y|\n",
            "| RF201POYVHGTC|B005T5MYXC|          1|           18|         36|   N|                Y|\n",
            "|R1XWUCJLDCJHGL|B00LPRK68S|          1|          120|        172|   N|                Y|\n",
            "|R1CO66W48MFQU3|B00YMIQ4VU|          5|           39|         39|   N|                N|\n",
            "|R20AC6JU04WVCD|B014KMI1F4|          4|           20|         28|   N|                N|\n",
            "|R2PH5ZW3C5IVIW|B00C7L8DM2|          2|           23|         32|   N|                Y|\n",
            "| RC9EIG7IT5X9O|B012PJRXQC|          5|           63|         67|   N|                Y|\n",
            "+--------------+----------+-----------+-------------+-----------+----+-----------------+\n",
            "only showing top 20 rows\n",
            "\n"
          ]
        }
      ]
    },
    {
      "cell_type": "code",
      "source": [
        "# Filter rows where a review was written as part of the Vine paid program\n",
        "vine_paid = helpful_df.filter(helpful_df[\"vine\"] == \"Y\")\n",
        "vine_paid.show()"
      ],
      "metadata": {
        "colab": {
          "base_uri": "https://localhost:8080/"
        },
        "id": "iOqho1eqd6zQ",
        "outputId": "3a465cd8-d668-47f0-98c1-d14e3da068b9"
      },
      "execution_count": 14,
      "outputs": [
        {
          "output_type": "stream",
          "name": "stdout",
          "text": [
            "+---------+----------+-----------+-------------+-----------+----+-----------------+\n",
            "|review_id|product_id|star_rating|helpful_votes|total_votes|vine|verified_purchase|\n",
            "+---------+----------+-----------+-------------+-----------+----+-----------------+\n",
            "+---------+----------+-----------+-------------+-----------+----+-----------------+\n",
            "\n"
          ]
        }
      ]
    },
    {
      "cell_type": "code",
      "source": [
        "# Filter rows where a review was written that was not part of the Vine paid program\n",
        "vine_not_paid = helpful_df.filter(helpful_df[\"vine\"] == \"N\")\n",
        "vine_not_paid.show()"
      ],
      "metadata": {
        "colab": {
          "base_uri": "https://localhost:8080/"
        },
        "id": "LpqiapAveRPZ",
        "outputId": "d16cde8b-2729-492c-cf40-e886616bcf40"
      },
      "execution_count": 15,
      "outputs": [
        {
          "output_type": "stream",
          "name": "stdout",
          "text": [
            "+--------------+----------+-----------+-------------+-----------+----+-----------------+\n",
            "|     review_id|product_id|star_rating|helpful_votes|total_votes|vine|verified_purchase|\n",
            "+--------------+----------+-----------+-------------+-----------+----+-----------------+\n",
            "| RZM83AGJAUZMA|B0142KIQYA|          1|           32|         41|   N|                Y|\n",
            "|R12MYB9QM2YN8B|B00OLI95R6|          1|           19|         23|   N|                N|\n",
            "| RGCY6WG37F810|B00ZN31MK6|          4|           24|         27|   N|                N|\n",
            "|R2UH0VN09DDQLA|B0143LIXI2|          3|           23|         30|   N|                N|\n",
            "|R1E4W9ROP10WT3|B013QMAZ80|          5|           19|         22|   N|                N|\n",
            "| RF2BLXZTUOL0M|B013WF1Z4O|          5|           23|         27|   N|                N|\n",
            "| REMDS9V4J58OR|B00X5FYC7Y|          4|           25|         29|   N|                Y|\n",
            "|R34CAWTWR5O2VN|B0142KIQYA|          1|           18|         20|   N|                Y|\n",
            "|R2ISFKK57JF02V|B00R6TEJU0|          5|           25|         26|   N|                Y|\n",
            "|R3D8LNOI6ZPOFY|B00S1Z5Z42|          5|           68|         72|   N|                Y|\n",
            "| RVR6HYB370XXD|B010X3O1IK|          4|          110|        112|   N|                Y|\n",
            "| R9DSUA5QATKSB|B00MR9YFCG|          4|           18|         21|   N|                Y|\n",
            "|R1R6D5SQ0MJ4SD|B0112SYRUM|          1|           24|         30|   N|                N|\n",
            "| RYWE9GFXNQMTM|B00O1SHSSE|          1|           30|         39|   N|                Y|\n",
            "| RF201POYVHGTC|B005T5MYXC|          1|           18|         36|   N|                Y|\n",
            "|R1XWUCJLDCJHGL|B00LPRK68S|          1|          120|        172|   N|                Y|\n",
            "|R1CO66W48MFQU3|B00YMIQ4VU|          5|           39|         39|   N|                N|\n",
            "|R20AC6JU04WVCD|B014KMI1F4|          4|           20|         28|   N|                N|\n",
            "|R2PH5ZW3C5IVIW|B00C7L8DM2|          2|           23|         32|   N|                Y|\n",
            "| RC9EIG7IT5X9O|B012PJRXQC|          5|           63|         67|   N|                Y|\n",
            "+--------------+----------+-----------+-------------+-----------+----+-----------------+\n",
            "only showing top 20 rows\n",
            "\n"
          ]
        }
      ]
    },
    {
      "cell_type": "code",
      "source": [
        "# Determine the total number of all reviews\n",
        "review_total = cleaned_df.count()\n",
        "review_total"
      ],
      "metadata": {
        "colab": {
          "base_uri": "https://localhost:8080/"
        },
        "id": "H8AmCv74eYq-",
        "outputId": "301a4f9a-7b1c-4fe1-bd72-505661a9188c"
      },
      "execution_count": 16,
      "outputs": [
        {
          "output_type": "execute_result",
          "data": {
            "text/plain": [
              "4056518"
            ]
          },
          "metadata": {},
          "execution_count": 16
        }
      ]
    },
    {
      "cell_type": "code",
      "source": [
        "# Determine the total number of all 5-star reviews\n",
        "total_fivestar = cleaned_df.filter(df[\"star_rating\"] == 5).count()\n",
        "total_fivestar"
      ],
      "metadata": {
        "colab": {
          "base_uri": "https://localhost:8080/"
        },
        "id": "hoEZlAT6ewmv",
        "outputId": "2c8a521c-3c59-44f8-80e0-743eec532b8b"
      },
      "execution_count": 18,
      "outputs": [
        {
          "output_type": "execute_result",
          "data": {
            "text/plain": [
              "2445989"
            ]
          },
          "metadata": {},
          "execution_count": 18
        }
      ]
    },
    {
      "cell_type": "code",
      "source": [
        "# Total number of paid reviews\n",
        "paid_total = vine_paid.count()\n",
        "paid_total"
      ],
      "metadata": {
        "colab": {
          "base_uri": "https://localhost:8080/"
        },
        "id": "1QhW8Yp-e6Zw",
        "outputId": "1ca05e2f-d5fa-4df3-d6f8-c24423d2c804"
      },
      "execution_count": 19,
      "outputs": [
        {
          "output_type": "execute_result",
          "data": {
            "text/plain": [
              "0"
            ]
          },
          "metadata": {},
          "execution_count": 19
        }
      ]
    },
    {
      "cell_type": "code",
      "source": [
        "# Total number of unpaid reviews\n",
        "unpaid_total = vine_not_paid.count()\n",
        "unpaid_total"
      ],
      "metadata": {
        "colab": {
          "base_uri": "https://localhost:8080/"
        },
        "id": "B9PnNzMWfNIL",
        "outputId": "e796de0b-374f-499f-d2bd-9468fe46aeb6"
      },
      "execution_count": 20,
      "outputs": [
        {
          "output_type": "execute_result",
          "data": {
            "text/plain": [
              "11362"
            ]
          },
          "metadata": {},
          "execution_count": 20
        }
      ]
    },
    {
      "cell_type": "code",
      "source": [
        "# Total number of 5-star paid reviews\n",
        "fivestar_paid = vine_paid.filter(vine_paid[\"star_rating\"] == 5).count()\n",
        "fivestar_paid"
      ],
      "metadata": {
        "colab": {
          "base_uri": "https://localhost:8080/"
        },
        "id": "m8hdxpAvfSKS",
        "outputId": "dd5258a8-5060-417f-bd64-0e0f1f573a0a"
      },
      "execution_count": 21,
      "outputs": [
        {
          "output_type": "execute_result",
          "data": {
            "text/plain": [
              "0"
            ]
          },
          "metadata": {},
          "execution_count": 21
        }
      ]
    },
    {
      "cell_type": "code",
      "source": [
        "# Determine total number of 5-star unpaid reviews\n",
        "fivestar_unpaid = vine_not_paid.filter(vine_paid[\"star_rating\"] == 5).count()\n",
        "fivestar_unpaid"
      ],
      "metadata": {
        "colab": {
          "base_uri": "https://localhost:8080/"
        },
        "id": "7QuvmVUPfWVB",
        "outputId": "58dd64fc-f9f2-4abf-bea6-7e7430b607b0"
      },
      "execution_count": 22,
      "outputs": [
        {
          "output_type": "execute_result",
          "data": {
            "text/plain": [
              "4670"
            ]
          },
          "metadata": {},
          "execution_count": 22
        }
      ]
    },
    {
      "cell_type": "code",
      "source": [
        "# Determine percentage of 5-star unpaid reviews\n",
        "percentage_unpaid = (fivestar_unpaid / unpaid_total) * 100\n",
        "percentage_unpaid"
      ],
      "metadata": {
        "colab": {
          "base_uri": "https://localhost:8080/"
        },
        "id": "9YB0sI0Afaeq",
        "outputId": "e3cd664e-0e29-4206-c022-410a03284f98"
      },
      "execution_count": 24,
      "outputs": [
        {
          "output_type": "execute_result",
          "data": {
            "text/plain": [
              "41.10191867628939"
            ]
          },
          "metadata": {},
          "execution_count": 24
        }
      ]
    },
    {
      "cell_type": "code",
      "source": [
        "# Colab Featured Interactive Table\n",
        "from google.colab import data_table \n",
        "data_table.enable_dataframe_formatter()"
      ],
      "metadata": {
        "id": "dYCjiVjUfkXf"
      },
      "execution_count": 25,
      "outputs": []
    },
    {
      "cell_type": "code",
      "source": [
        "df.show()"
      ],
      "metadata": {
        "colab": {
          "base_uri": "https://localhost:8080/"
        },
        "id": "7mm31Hpyf8ER",
        "outputId": "2c77180f-0f9c-47cf-aba8-dd8cceb17698"
      },
      "execution_count": 26,
      "outputs": [
        {
          "output_type": "stream",
          "name": "stdout",
          "text": [
            "+-----------+-----------+--------------+----------+--------------+--------------------+--------------------+-----------+-------------+-----------+----+-----------------+--------------------+--------------------+-----------+\n",
            "|marketplace|customer_id|     review_id|product_id|product_parent|       product_title|    product_category|star_rating|helpful_votes|total_votes|vine|verified_purchase|     review_headline|         review_body|review_date|\n",
            "+-----------+-----------+--------------+----------+--------------+--------------------+--------------------+-----------+-------------+-----------+----+-----------------+--------------------+--------------------+-----------+\n",
            "|         US|   12190288|R3FU16928EP5TC|B00AYB1482|     668895143|Enlightened: Seas...|Digital_Video_Dow...|          5|            0|          0|   N|                Y|I loved it and I ...|I loved it and I ...| 2015-08-31|\n",
            "|         US|   30549954|R1IZHHS1MH3AQ4|B00KQD28OM|     246219280|             Vicious|Digital_Video_Dow...|          5|            0|          0|   N|                Y|As always it seem...|As always it seem...| 2015-08-31|\n",
            "|         US|   52895410| R52R85WC6TIAH|B01489L5LQ|     534732318|         After Words|Digital_Video_Dow...|          4|           17|         18|   N|                Y|      Charming movie|This movie isn't ...| 2015-08-31|\n",
            "|         US|   27072354| R7HOOYTVIB0DS|B008LOVIIK|     239012694|Masterpiece: Insp...|Digital_Video_Dow...|          5|            0|          0|   N|                Y|          Five Stars|excellant this is...| 2015-08-31|\n",
            "|         US|   26939022|R1XQ2N5CDOZGNX|B0094LZMT0|     535858974|   On The Waterfront|Digital_Video_Dow...|          5|            0|          0|   N|                Y|Brilliant film fr...|Brilliant film fr...| 2015-08-31|\n",
            "|         US|    4772040|R1HCST57W334KN|B0112OSOQE|      38517795|Rick and Morty Se...|Digital_Video_Dow...|          5|            5|          6|   N|                Y|Best show on TV r...|If you don't like...| 2015-08-31|\n",
            "|         US|   12910040|R32BUTYQS1ZJBQ|B000NPE5SA|     373323715|      Africa Screams|Digital_Video_Dow...|          4|            1|          1|   N|                Y|Very funny. A typ...|Very funny.  A ty...| 2015-08-31|\n",
            "|         US|   38805573|  RH4SXPL4L9QU|B00XWV4QXG|     633842417| Entourage: Season 7|Digital_Video_Dow...|          3|            0|          0|   N|                Y|it was not as goo...|Strange as it is,...| 2015-08-31|\n",
            "|         US|   37100714|R37INWIQA5YW8N|B00X8UKOUK|     666093513|Catastrophe - Sea...|Digital_Video_Dow...|          2|            0|          0|   N|                Y|           Two Stars|Funny shows! We l...| 2015-08-31|\n",
            "|         US|   41234409|R18GSVAAS3N8GX|B00OOKXTFU|     801680808|The Worricker Tri...|Digital_Video_Dow...|          3|            0|          0|   N|                Y|        A tad Stuffy|Well made. Great ...| 2015-08-31|\n",
            "|         US|   24698954|R2QCG0ZZOHYUOX|B00URDJ600|     174981485|Mr. Selfridge, Se...|Digital_Video_Dow...|          5|            0|          0|   N|                Y|This show is awes...|This show is awes...| 2015-08-31|\n",
            "|         US|   11956809|R2B1OCYMUVMS5C|B009JUZ5I4|     654293980|  Five Branded Women|Digital_Video_Dow...|          5|            0|          0|   N|                Y|A good perspectiv...|A good perspectiv...| 2015-08-31|\n",
            "|         US|   11763902|R131ZJWHK0XXY0|B00PSLQYWE|     156264553|Downton Abbey Sea...|Digital_Video_Dow...|          4|            0|          0|   N|                Y|this saga gets be...|this saga gets be...| 2015-08-31|\n",
            "|         US|   46765633| RY6RIUNL03N8M|B00LI1COYA|     714145608|    Extant, Season 1|Digital_Video_Dow...|          5|            0|          0|   N|                Y|          Five Stars|         Great show.| 2015-08-31|\n",
            "|         US|   12411752|R2SWNCCEH2HPM5|B01347T9O8|     331499516|            Casanova|Digital_Video_Dow...|          1|            0|          0|   N|                Y|            One Star|Not my kind of mo...| 2015-08-31|\n",
            "|         US|   14717869|R127KV8E8ZC5L4|B00EC7VQX2|     627579257|Boardwalk Empire ...|Digital_Video_Dow...|          1|            0|          1|   N|                Y|I would have give...|I would have give...| 2015-08-31|\n",
            "|         US|    7438246|R3GH9B8WLQVY5T|B014P64276|     120489454|      Reunion Part 2|Digital_Video_Dow...|          5|            0|          0|   N|                Y|          Five Stars|         I loved it.| 2015-08-31|\n",
            "|         US|   51636125|R3AEFW1YB46FAU|B00X8UKOUK|     666093513|Catastrophe - Sea...|Digital_Video_Dow...|          3|            0|          0|   N|                Y|I want to like it...|I want to like it...| 2015-08-31|\n",
            "|         US|   47856888|R1ZHHD1GTHGMNK|B005U9RM0W|     728197314|      Grimm Season 1|Digital_Video_Dow...|          4|            1|          1|   N|                Y|If you're a sucke...|If you're a sucke...| 2015-08-31|\n",
            "|         US|    9210752|R2BCH4XK5CIK50|B00X8UKOUK|     666093513|Catastrophe - Sea...|Digital_Video_Dow...|          5|            0|          0|   N|                Y|         Great show.|Well done!!  Grea...| 2015-08-31|\n",
            "+-----------+-----------+--------------+----------+--------------+--------------------+--------------------+-----------+-------------+-----------+----+-----------------+--------------------+--------------------+-----------+\n",
            "only showing top 20 rows\n",
            "\n"
          ]
        }
      ]
    },
    {
      "cell_type": "code",
      "source": [
        "# No Nulls dropped\n",
        "review_analysis2_df = df.select([\"review_id\", \"product_id\",\"star_rating\",\"helpful_votes\",\"total_votes\",\"vine\",\"verified_purchase\"])\n",
        "votes20_df = review_analysis2_df.filter(\"total_votes >= 20\")\n",
        "votes20_df.show()"
      ],
      "metadata": {
        "colab": {
          "base_uri": "https://localhost:8080/"
        },
        "id": "cwg4JYdMgNg9",
        "outputId": "6d154a40-e021-4569-a840-89cfe3c18462"
      },
      "execution_count": 27,
      "outputs": [
        {
          "output_type": "stream",
          "name": "stdout",
          "text": [
            "+--------------+----------+-----------+-------------+-----------+----+-----------------+\n",
            "|     review_id|product_id|star_rating|helpful_votes|total_votes|vine|verified_purchase|\n",
            "+--------------+----------+-----------+-------------+-----------+----+-----------------+\n",
            "|R1CY3APKBOVUYU|B00VO8D13K|          1|            9|         33|   N|                Y|\n",
            "|R2LTI28AN2281A|B00YOSAJBO|          1|            0|         22|   N|                Y|\n",
            "|R3PENXZQNYN29L|B00XOX9QCS|          1|            1|         26|   N|                Y|\n",
            "| R8IGXNWIBN7ZP|B007BVMVDU|          1|            6|         20|   N|                Y|\n",
            "|R2P8B83Q61L4HS|B00XOXDXV8|          1|            0|         22|   N|                Y|\n",
            "| RZM83AGJAUZMA|B0142KIQYA|          1|           32|         41|   N|                Y|\n",
            "|R257YW4XQLDH1M|B006W0QOF2|          1|            6|         20|   N|                Y|\n",
            "|R12MYB9QM2YN8B|B00OLI95R6|          1|           19|         23|   N|                N|\n",
            "| RGCY6WG37F810|B00ZN31MK6|          4|           24|         27|   N|                N|\n",
            "|R1TIDPK91S2IRQ|B00TFVZCIU|          1|            0|         25|   N|                Y|\n",
            "|R1WQ2C3EYOLKKH|B00XOXDXV8|          1|            1|         24|   N|                Y|\n",
            "|R1H9AEOAFUK08M|B00X5G0470|          1|            4|         23|   N|                Y|\n",
            "|R2UH0VN09DDQLA|B0143LIXI2|          3|           23|         30|   N|                N|\n",
            "|R1E4W9ROP10WT3|B013QMAZ80|          5|           19|         22|   N|                N|\n",
            "| RF2BLXZTUOL0M|B013WF1Z4O|          5|           23|         27|   N|                N|\n",
            "|R1NAOZ90FDXGEP|B00XOXDXV8|          1|            0|         21|   N|                Y|\n",
            "| R3R7Y4GU9QJYJ|B00XOXDXV8|          1|            1|         23|   N|                Y|\n",
            "| REMDS9V4J58OR|B00X5FYC7Y|          4|           25|         29|   N|                Y|\n",
            "|R34CAWTWR5O2VN|B0142KIQYA|          1|           18|         20|   N|                Y|\n",
            "|R1YC2273PREWG2|B013JCFXCK|          1|            3|         32|   N|                Y|\n",
            "+--------------+----------+-----------+-------------+-----------+----+-----------------+\n",
            "only showing top 20 rows\n",
            "\n"
          ]
        }
      ]
    },
    {
      "cell_type": "code",
      "source": [
        "helpful_df = votes20_df.filter(votes20_df[\"helpful_votes\"]/votes20_df[\"total_votes\"] >= 0.5)\n",
        "helpful_df.show()"
      ],
      "metadata": {
        "colab": {
          "base_uri": "https://localhost:8080/"
        },
        "id": "wnzRwW-cgpdj",
        "outputId": "e7043a50-478b-458c-8fe8-92c0c9feb61a"
      },
      "execution_count": 28,
      "outputs": [
        {
          "output_type": "stream",
          "name": "stdout",
          "text": [
            "+--------------+----------+-----------+-------------+-----------+----+-----------------+\n",
            "|     review_id|product_id|star_rating|helpful_votes|total_votes|vine|verified_purchase|\n",
            "+--------------+----------+-----------+-------------+-----------+----+-----------------+\n",
            "| RZM83AGJAUZMA|B0142KIQYA|          1|           32|         41|   N|                Y|\n",
            "|R12MYB9QM2YN8B|B00OLI95R6|          1|           19|         23|   N|                N|\n",
            "| RGCY6WG37F810|B00ZN31MK6|          4|           24|         27|   N|                N|\n",
            "|R2UH0VN09DDQLA|B0143LIXI2|          3|           23|         30|   N|                N|\n",
            "|R1E4W9ROP10WT3|B013QMAZ80|          5|           19|         22|   N|                N|\n",
            "| RF2BLXZTUOL0M|B013WF1Z4O|          5|           23|         27|   N|                N|\n",
            "| REMDS9V4J58OR|B00X5FYC7Y|          4|           25|         29|   N|                Y|\n",
            "|R34CAWTWR5O2VN|B0142KIQYA|          1|           18|         20|   N|                Y|\n",
            "|R2ISFKK57JF02V|B00R6TEJU0|          5|           25|         26|   N|                Y|\n",
            "|R3D8LNOI6ZPOFY|B00S1Z5Z42|          5|           68|         72|   N|                Y|\n",
            "| RVR6HYB370XXD|B010X3O1IK|          4|          110|        112|   N|                Y|\n",
            "| R9DSUA5QATKSB|B00MR9YFCG|          4|           18|         21|   N|                Y|\n",
            "|R1R6D5SQ0MJ4SD|B0112SYRUM|          1|           24|         30|   N|                N|\n",
            "| RYWE9GFXNQMTM|B00O1SHSSE|          1|           30|         39|   N|                Y|\n",
            "| RF201POYVHGTC|B005T5MYXC|          1|           18|         36|   N|                Y|\n",
            "|R1XWUCJLDCJHGL|B00LPRK68S|          1|          120|        172|   N|                Y|\n",
            "|R1CO66W48MFQU3|B00YMIQ4VU|          5|           39|         39|   N|                N|\n",
            "|R20AC6JU04WVCD|B014KMI1F4|          4|           20|         28|   N|                N|\n",
            "|R2PH5ZW3C5IVIW|B00C7L8DM2|          2|           23|         32|   N|                Y|\n",
            "| RC9EIG7IT5X9O|B012PJRXQC|          5|           63|         67|   N|                Y|\n",
            "+--------------+----------+-----------+-------------+-----------+----+-----------------+\n",
            "only showing top 20 rows\n",
            "\n"
          ]
        }
      ]
    },
    {
      "cell_type": "code",
      "source": [
        "# Filter rows where a review was written as part of the Vine paid program\n",
        "vine_paid = helpful_df.filter(helpful_df[\"vine\"] == \"Y\")\n",
        "vine_paid.show()\n",
        "\n",
        "# Filter rows where a review was written that was not part of the Vine paid program\n",
        "vine_not_paid = helpful_df.filter(helpful_df[\"vine\"] == \"N\")\n",
        "vine_not_paid.show()"
      ],
      "metadata": {
        "colab": {
          "base_uri": "https://localhost:8080/"
        },
        "id": "Ujd6Kjqsg0xL",
        "outputId": "6731893c-8288-4d13-8016-2ca74c9a582f"
      },
      "execution_count": 29,
      "outputs": [
        {
          "output_type": "stream",
          "name": "stdout",
          "text": [
            "+---------+----------+-----------+-------------+-----------+----+-----------------+\n",
            "|review_id|product_id|star_rating|helpful_votes|total_votes|vine|verified_purchase|\n",
            "+---------+----------+-----------+-------------+-----------+----+-----------------+\n",
            "+---------+----------+-----------+-------------+-----------+----+-----------------+\n",
            "\n",
            "+--------------+----------+-----------+-------------+-----------+----+-----------------+\n",
            "|     review_id|product_id|star_rating|helpful_votes|total_votes|vine|verified_purchase|\n",
            "+--------------+----------+-----------+-------------+-----------+----+-----------------+\n",
            "| RZM83AGJAUZMA|B0142KIQYA|          1|           32|         41|   N|                Y|\n",
            "|R12MYB9QM2YN8B|B00OLI95R6|          1|           19|         23|   N|                N|\n",
            "| RGCY6WG37F810|B00ZN31MK6|          4|           24|         27|   N|                N|\n",
            "|R2UH0VN09DDQLA|B0143LIXI2|          3|           23|         30|   N|                N|\n",
            "|R1E4W9ROP10WT3|B013QMAZ80|          5|           19|         22|   N|                N|\n",
            "| RF2BLXZTUOL0M|B013WF1Z4O|          5|           23|         27|   N|                N|\n",
            "| REMDS9V4J58OR|B00X5FYC7Y|          4|           25|         29|   N|                Y|\n",
            "|R34CAWTWR5O2VN|B0142KIQYA|          1|           18|         20|   N|                Y|\n",
            "|R2ISFKK57JF02V|B00R6TEJU0|          5|           25|         26|   N|                Y|\n",
            "|R3D8LNOI6ZPOFY|B00S1Z5Z42|          5|           68|         72|   N|                Y|\n",
            "| RVR6HYB370XXD|B010X3O1IK|          4|          110|        112|   N|                Y|\n",
            "| R9DSUA5QATKSB|B00MR9YFCG|          4|           18|         21|   N|                Y|\n",
            "|R1R6D5SQ0MJ4SD|B0112SYRUM|          1|           24|         30|   N|                N|\n",
            "| RYWE9GFXNQMTM|B00O1SHSSE|          1|           30|         39|   N|                Y|\n",
            "| RF201POYVHGTC|B005T5MYXC|          1|           18|         36|   N|                Y|\n",
            "|R1XWUCJLDCJHGL|B00LPRK68S|          1|          120|        172|   N|                Y|\n",
            "|R1CO66W48MFQU3|B00YMIQ4VU|          5|           39|         39|   N|                N|\n",
            "|R20AC6JU04WVCD|B014KMI1F4|          4|           20|         28|   N|                N|\n",
            "|R2PH5ZW3C5IVIW|B00C7L8DM2|          2|           23|         32|   N|                Y|\n",
            "| RC9EIG7IT5X9O|B012PJRXQC|          5|           63|         67|   N|                Y|\n",
            "+--------------+----------+-----------+-------------+-----------+----+-----------------+\n",
            "only showing top 20 rows\n",
            "\n"
          ]
        }
      ]
    },
    {
      "cell_type": "code",
      "source": [
        ""
      ],
      "metadata": {
        "id": "vcsFnjO8g9wy"
      },
      "execution_count": null,
      "outputs": []
    }
  ],
  "metadata": {
    "colab": {
      "name": "Vine_Reviews_Analysis.ipynb",
      "provenance": [],
      "collapsed_sections": []
    },
    "kernelspec": {
      "display_name": "Python 3",
      "name": "python3"
    },
    "language_info": {
      "name": "python"
    },
    "nteract": {
      "version": "0.12.3"
    }
  },
  "nbformat": 4,
  "nbformat_minor": 0
}